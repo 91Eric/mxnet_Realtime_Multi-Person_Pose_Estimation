{
 "cells": [
  {
   "cell_type": "code",
   "execution_count": 52,
   "metadata": {
    "collapsed": true,
    "deletable": true,
    "editable": true
   },
   "outputs": [],
   "source": [
    "import sys\n",
    "\n",
    "import sys\n",
    "sys.path.append('wu_server/')"
   ]
  },
  {
   "cell_type": "code",
   "execution_count": 53,
   "metadata": {
    "collapsed": false,
    "deletable": true,
    "editable": true
   },
   "outputs": [],
   "source": [
    "from GenerateLabelCPM import *\n",
    "from modelCPM import *"
   ]
  },
  {
   "cell_type": "code",
   "execution_count": 54,
   "metadata": {
    "collapsed": true,
    "deletable": true,
    "editable": true
   },
   "outputs": [],
   "source": [
    "sym = mxnetModule()"
   ]
  },
  {
   "cell_type": "code",
   "execution_count": 55,
   "metadata": {
    "collapsed": false,
    "deletable": true,
    "editable": true
   },
   "outputs": [
    {
     "name": "stdout",
     "output_type": "stream",
     "text": [
      "self._data_shapes:  [DataDesc[data,(1, 3, 368, 368),<type 'numpy.float32'>,NCHW]]\n",
      "self._label_shapes:  [DataDesc[heatmaplabel,(1, 19, 46, 46),<type 'numpy.float32'>,NCHW], DataDesc[partaffinityglabel,(1, 38, 46, 46),<type 'numpy.float32'>,NCHW]]\n"
     ]
    }
   ],
   "source": [
    "cmodel = intializeModel(sym)"
   ]
  },
  {
   "cell_type": "code",
   "execution_count": 46,
   "metadata": {
    "collapsed": true,
    "deletable": true,
    "editable": true
   },
   "outputs": [],
   "source": [
    "cocodata = cocoIter('pose_io/data.json',\n",
    "                    'data', (1,3, 368,368),\n",
    "                    ['heatmaplabel','partaffinityglabel'],\n",
    "                    [(1, 19, 46, 46),(1,38,46,46)])"
   ]
  },
  {
   "cell_type": "code",
   "execution_count": 47,
   "metadata": {
    "collapsed": false,
    "deletable": true,
    "editable": true
   },
   "outputs": [
    {
     "name": "stdout",
     "output_type": "stream",
     "text": [
      "-------------\n",
      "0.00127089\n",
      "0.00197374\n",
      "-------------\n",
      "0.00140862\n",
      "0.00445809\n",
      "-------------\n",
      "0.00114914\n",
      "0.00167099\n",
      "-------------\n",
      "0.0010632\n",
      "0.0015162\n",
      "117.425956011\n"
     ]
    }
   ],
   "source": [
    "import time\n",
    "startt = time.time()\n",
    "\n",
    "cmodel.init_optimizer(optimizer='sgd', \n",
    "                      optimizer_params=(('learning_rate', 0.01), ))\n",
    "\n",
    "# train one epoch, i.e. going over the data iter one pass\n",
    "for batch in cocodata:\n",
    "    cmodel.forward(batch, is_train=True)       # compute predictions\n",
    "    prediction=cmodel.get_outputs()\n",
    "    #print prediction\n",
    "    #print prediction[11].asnumpy().reshape(-1).shape\n",
    "    #print batch.label[0].asnumpy().reshape(-1).shape\n",
    "    print '-------------'\n",
    "    print np.mean((prediction[11].asnumpy().reshape(-1)-batch.label[0].asnumpy().reshape(-1))**2)\n",
    "    print np.mean((prediction[10].asnumpy().reshape(-1)-batch.label[1].asnumpy().reshape(-1))**2)\n",
    "    cmodel.backward()                          # compute gradients\n",
    "    cmodel.update()                            # update parameters using SGD\n",
    "    \n",
    "endt = time.time()\n",
    "print endt-startt"
   ]
  },
  {
   "cell_type": "markdown",
   "metadata": {},
   "source": [
    "### Fake Data"
   ]
  },
  {
   "cell_type": "code",
   "execution_count": 48,
   "metadata": {
    "collapsed": true,
    "deletable": true,
    "editable": true
   },
   "outputs": [],
   "source": [
    "cocoIterFake = cocoIter('pose_io/data.json',\n",
    "                    'data', (1,3, 368,368),\n",
    "                    ['heatmaplabel','partaffinityglabel'],\n",
    "                    [(1, 19, 46, 46),(1,38,46,46)])"
   ]
  },
  {
   "cell_type": "code",
   "execution_count": 49,
   "metadata": {
    "collapsed": false,
    "deletable": true,
    "editable": true
   },
   "outputs": [
    {
     "name": "stderr",
     "output_type": "stream",
     "text": [
      "WARNING:root:optimizer already initialized, ignoring...\n"
     ]
    },
    {
     "name": "stdout",
     "output_type": "stream",
     "text": [
      "-------------heatmap-------------\n",
      "0.00146501\n",
      "-------------part affinity graph-------------\n",
      "0.00225034\n",
      "-------------heatmap-------------\n",
      "0.00195787\n",
      "-------------part affinity graph-------------\n",
      "0.00768836\n",
      "-------------heatmap-------------\n",
      "0.000803418\n",
      "-------------part affinity graph-------------\n",
      "0.000458169\n",
      "-------------heatmap-------------\n",
      "0.000942113\n",
      "-------------part affinity graph-------------\n",
      "0.00121227\n",
      "139.15998888\n"
     ]
    }
   ],
   "source": [
    "import time\n",
    "startt = time.time()\n",
    "\n",
    "cmodel.init_optimizer(optimizer='sgd', \n",
    "                      optimizer_params=(('learning_rate', 0.01), ))\n",
    "\n",
    "# train one epoch, i.e. going over the data iter one pass\n",
    "for batch in cocoIterFake:\n",
    "    cmodel.forward(batch, is_train=True)       # compute predictions\n",
    "    prediction=cmodel.get_outputs()\n",
    "    #print prediction\n",
    "    #print prediction[11].asnumpy().reshape(-1).shape\n",
    "    #print batch.label[0].asnumpy().reshape(-1).shape\n",
    "    print '-------------heatmap-------------'\n",
    "    print np.mean((prediction[11].asnumpy().reshape(-1)-batch.label[0].asnumpy().reshape(-1))**2)\n",
    "    print '-------------part affinity graph-------------'\n",
    "    print np.mean((prediction[10].asnumpy().reshape(-1)-batch.label[1].asnumpy().reshape(-1))**2)\n",
    "    cmodel.backward()                          # compute gradients\n",
    "    cmodel.update()                            # update parameters using SGD\n",
    "    \n",
    "endt = time.time()\n",
    "print endt-startt"
   ]
  },
  {
   "cell_type": "raw",
   "metadata": {
    "deletable": true,
    "editable": true
   },
   "source": [
    "-------------\n",
    "0.0490085\n",
    "0.00250231\n",
    "-------------\n",
    "0.0516367\n",
    "0.00481871\n",
    "-------------\n",
    "0.05049\n",
    "0.00108457\n",
    "-------------\n",
    "0.0501732\n",
    "0.00213891\n",
    "117.753720045"
   ]
  },
  {
   "cell_type": "code",
   "execution_count": 50,
   "metadata": {
    "collapsed": true
   },
   "outputs": [],
   "source": [
    "### Comparsion"
   ]
  },
  {
   "cell_type": "code",
   "execution_count": 51,
   "metadata": {
    "collapsed": false
   },
   "outputs": [
    {
     "ename": "StopIteration",
     "evalue": "",
     "output_type": "error",
     "traceback": [
      "\u001b[0;31m---------------------------------------------------------------------------\u001b[0m",
      "\u001b[0;31mStopIteration\u001b[0m                             Traceback (most recent call last)",
      "\u001b[0;32m<ipython-input-51-53973762413f>\u001b[0m in \u001b[0;36m<module>\u001b[0;34m()\u001b[0m\n\u001b[1;32m      2\u001b[0m \u001b[0mget_ipython\u001b[0m\u001b[0;34m(\u001b[0m\u001b[0;34m)\u001b[0m\u001b[0;34m.\u001b[0m\u001b[0mmagic\u001b[0m\u001b[0;34m(\u001b[0m\u001b[0;34mu'matplotlib inline'\u001b[0m\u001b[0;34m)\u001b[0m\u001b[0;34m\u001b[0m\u001b[0m\n\u001b[1;32m      3\u001b[0m \u001b[0;34m\u001b[0m\u001b[0m\n\u001b[0;32m----> 4\u001b[0;31m \u001b[0mdataitera\u001b[0m \u001b[0;34m=\u001b[0m \u001b[0mcocodata\u001b[0m\u001b[0;34m.\u001b[0m\u001b[0mnext\u001b[0m\u001b[0;34m(\u001b[0m\u001b[0;34m)\u001b[0m\u001b[0;34m\u001b[0m\u001b[0m\n\u001b[0m\u001b[1;32m      5\u001b[0m \u001b[0;34m\u001b[0m\u001b[0m\n\u001b[1;32m      6\u001b[0m \u001b[0;34m\u001b[0m\u001b[0m\n",
      "\u001b[0;32m/data/guest_users/liangdong/liangdong/practice_demo/wu_server/modelCPM.py\u001b[0m in \u001b[0;36mnext\u001b[0;34m(self)\u001b[0m\n\u001b[1;32m    328\u001b[0m                 mx.nd.array([pagmap]))\n\u001b[1;32m    329\u001b[0m         \u001b[0;32melse\u001b[0m\u001b[0;34m:\u001b[0m\u001b[0;34m\u001b[0m\u001b[0m\n\u001b[0;32m--> 330\u001b[0;31m             \u001b[0;32mraise\u001b[0m \u001b[0mStopIteration\u001b[0m\u001b[0;34m\u001b[0m\u001b[0m\n\u001b[0m\u001b[1;32m    331\u001b[0m \u001b[0;34m\u001b[0m\u001b[0m\n\u001b[1;32m    332\u001b[0m \u001b[0;32mclass\u001b[0m \u001b[0mcocoIterFake\u001b[0m\u001b[0;34m:\u001b[0m\u001b[0;34m\u001b[0m\u001b[0m\n",
      "\u001b[0;31mStopIteration\u001b[0m: "
     ]
    }
   ],
   "source": [
    "import matplotlib.pylab as plt\n",
    "%matplotlib inline\n",
    "\n",
    "dataitera = cocodata.next()\n",
    "\n",
    "\n",
    "newsimage = dataitera.data[0].asnumpy()[0]\n",
    "\n",
    "newsimage.shape\n",
    "\n",
    "heatmap1 = dataitera.label[0].asnumpy()[0]\n",
    "\n",
    "pagmap1 = dataitera.label[1].asnumpy()[0]\n",
    "\n",
    "heatmap1.shape\n",
    "\n",
    "pagmap1.shape\n",
    "\n",
    "#oriImg[:,:,[2,1,0]]\n",
    "f = plt.imshow(newsimage[0,:,:]) # reorder it before displaying\n",
    "\n",
    "plt.figure();  # plt.axis('off')\n",
    "\n",
    "for i in range(18,19):\n",
    "    plt.imshow(cv.resize(heatmap1[i,:,:], (368, 368)))\n",
    "\n",
    "plt.imshow(newsimage[0,:,:], alpha=0.5)\n",
    "\n",
    "plt.show()\n",
    "\n",
    "cmodel.forward(dataitera)       # compute predictions\n",
    "prediction=cmodel.get_outputs()\n",
    "\n",
    "heatmap2 = prediction[11].asnumpy()[0]\n",
    "\n",
    "plt.figure();  # plt.axis('off')\n",
    "\n",
    "for i in range(18,19):\n",
    "    plt.imshow(cv.resize(heatmap2[i,:,:], (368, 368)), alpha=(1 - 1.0 * i / 10))\n",
    "\n",
    "plt.imshow(newsimage[0,:,:], alpha=0.1)\n",
    "\n",
    "plt.show()\n",
    "\n",
    "differentmap = heatmap2[18,:,:]-heatmap1[18,:,:]\n",
    "\n",
    "differentmap\n",
    "\n",
    "differentmap.max()\n",
    "\n",
    "plt.figure();  # plt.axis('off')\n",
    "\n",
    "for i in range(7,8):\n",
    "    plt.imshow(cv.resize(differentmap, (368, 368)), alpha=(1 - 1.0 * i / 10))\n",
    "\n",
    "plt.imshow(newsimage[0,:,:], alpha=0.1)\n",
    "\n",
    "plt.show()"
   ]
  },
  {
   "cell_type": "code",
   "execution_count": null,
   "metadata": {
    "collapsed": true
   },
   "outputs": [],
   "source": []
  }
 ],
 "metadata": {
  "kernelspec": {
   "display_name": "Python 2",
   "language": "python",
   "name": "python2"
  },
  "language_info": {
   "codemirror_mode": {
    "name": "ipython",
    "version": 2
   },
   "file_extension": ".py",
   "mimetype": "text/x-python",
   "name": "python",
   "nbconvert_exporter": "python",
   "pygments_lexer": "ipython2",
   "version": "2.7.12"
  }
 },
 "nbformat": 4,
 "nbformat_minor": 2
}
